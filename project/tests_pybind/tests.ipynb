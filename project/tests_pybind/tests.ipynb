{
 "cells": [
  {
   "cell_type": "code",
   "execution_count": null,
   "metadata": {},
   "outputs": [],
   "source": [
    "import EmbeddedCV\n",
    "import cv2\n",
    "import numpy as np\n",
    "import os\n",
    "from scipy.ndimage import convolve\n",
    "from matplotlib import pyplot as plt\n",
    "from QOI_encode import QOI_encode\n",
    "from QOI_decode import QOI_decode"
   ]
  },
  {
   "cell_type": "markdown",
   "metadata": {},
   "source": [
    "# Test verifiers"
   ]
  },
  {
   "cell_type": "code",
   "execution_count": null,
   "metadata": {},
   "outputs": [],
   "source": [
    "import numpy as np\n",
    "\n",
    "def check_correctness(y_pred, y):\n",
    "    diff = y_pred.astype(np.int32) - y.astype(np.int32)\n",
    "    abs_diff = np.abs(diff)\n",
    "    max_diff = np.max(abs_diff)\n",
    "    avg_diff = np.mean(abs_diff)\n",
    "\n",
    "    diff_unacceptable = np.where(abs_diff > 2)\n",
    "\n",
    "    for idx in zip(*diff_unacceptable):\n",
    "        print(idx)\n",
    "\n",
    "    if y_pred.shape[2] == 1:\n",
    "        gray = True\n",
    "    else: \n",
    "        gray = False\n",
    "\n",
    "    cv2.imwrite(\"pred.png\", y_pred)\n",
    "    cv2.imwrite(\"true.png\", y)\n",
    "    cv2.imwrite(\"diff.png\", abs_diff)\n",
    "\n",
    "    print(\"Max diff:\", max_diff)\n",
    "    print(\"Avg diff:\", avg_diff)\n",
    "\n",
    "    return True"
   ]
  },
  {
   "cell_type": "markdown",
   "metadata": {},
   "source": [
    "# Naive implementations"
   ]
  },
  {
   "cell_type": "code",
   "execution_count": null,
   "metadata": {},
   "outputs": [],
   "source": [
    "from functions import gaussian_blur, canny_edge, sobel_min_max, median_blur"
   ]
  },
  {
   "cell_type": "markdown",
   "metadata": {},
   "source": [
    "# Tests"
   ]
  },
  {
   "cell_type": "markdown",
   "metadata": {},
   "source": [
    "Setup"
   ]
  },
  {
   "cell_type": "code",
   "execution_count": null,
   "metadata": {},
   "outputs": [],
   "source": [
    "channels = 3\n",
    "rows = 576\n",
    "cols = 768\n",
    "\n",
    "cam = EmbeddedCV.CamSimulator(True, channels, rows, cols)\n",
    "host = EmbeddedCV.Host(cam, channels, rows, cols)"
   ]
  },
  {
   "cell_type": "markdown",
   "metadata": {},
   "source": [
    "Test cases"
   ]
  },
  {
   "cell_type": "code",
   "execution_count": null,
   "metadata": {},
   "outputs": [],
   "source": [
    "image_path = \"Background_Subtraction_Tutorial_frame_1.png\"\n",
    "image = cv2.imread(image_path)\n",
    "\n",
    "flat_image = image.flatten()"
   ]
  },
  {
   "cell_type": "code",
   "execution_count": null,
   "metadata": {},
   "outputs": [],
   "source": [
    "cam.StoreData(flat_image)"
   ]
  },
  {
   "cell_type": "markdown",
   "metadata": {},
   "source": [
    "Sanity Check"
   ]
  },
  {
   "cell_type": "code",
   "execution_count": null,
   "metadata": {},
   "outputs": [],
   "source": [
    "# host_output = np.zeros(shape=(channels*rows*cols), dtype=np.uint8)\n",
    "\n",
    "# host.Sanity(host_output)\n",
    "# host_output = host_output.reshape((rows, cols, channels))\n",
    "\n",
    "# naive_output = image\n",
    "\n",
    "# check_correctness(y_pred=host_output, y=naive_output)"
   ]
  },
  {
   "cell_type": "markdown",
   "metadata": {},
   "source": [
    "MedianBlur (0 error when min max buffers whole image)"
   ]
  },
  {
   "cell_type": "code",
   "execution_count": null,
   "metadata": {},
   "outputs": [],
   "source": [
    "# kernel_height, kernel_width = 3, 3\n",
    "\n",
    "# host_output = np.zeros(shape=(channels*rows*cols), dtype=np.uint8)\n",
    "\n",
    "# host.MedianBlur(host_output, kernel_height, kernel_width)\n",
    "# host_output = host_output.reshape((rows, cols, channels))\n",
    "\n",
    "# naive_output = median_blur(image, kernel_height, kernel_width)\n",
    "\n",
    "# check_correctness(y_pred=host_output, y=naive_output)"
   ]
  },
  {
   "cell_type": "markdown",
   "metadata": {},
   "source": [
    "GaussianBlur"
   ]
  },
  {
   "cell_type": "code",
   "execution_count": null,
   "metadata": {},
   "outputs": [],
   "source": [
    "kernel_height, kernel_width = 5, 5\n",
    "sigma_x, sigma_y = 0, 0\n",
    "\n",
    "host_output = np.zeros(shape=(channels*rows*cols), dtype=np.uint8)\n",
    "\n",
    "host.GaussianBlur(host_output, kernel_height, kernel_width, sigma_x, sigma_y)\n",
    "host_output = host_output.reshape((rows, cols, channels))\n",
    "\n",
    "naive_output = gaussian_blur(image, kernel_height, kernel_width, sigma_x, sigma_y)\n",
    "\n",
    "check_correctness(y_pred=host_output, y=naive_output)"
   ]
  },
  {
   "cell_type": "markdown",
   "metadata": {},
   "source": [
    "Sobel"
   ]
  },
  {
   "cell_type": "code",
   "execution_count": null,
   "metadata": {},
   "outputs": [],
   "source": [
    "# host_output = np.zeros(shape=(channels*rows*cols), dtype=np.uint8)\n",
    "\n",
    "# host.Sobel(host_output)\n",
    "# host_output = host_output.reshape((rows, cols, channels))\n",
    "\n",
    "# naive_output = sobel_min_max(image)\n",
    "\n",
    "# check_correctness(y_pred=host_output, y=naive_output)"
   ]
  },
  {
   "cell_type": "markdown",
   "metadata": {},
   "source": [
    "CannyEdge"
   ]
  },
  {
   "cell_type": "code",
   "execution_count": null,
   "metadata": {},
   "outputs": [],
   "source": [
    "# lowThreshold = 100\n",
    "# highThreshold = 200\n",
    "\n",
    "# host_output = np.zeros(shape=(1*rows*cols), dtype=np.uint8)\n",
    " \n",
    "# host.CannyEdge(host_output, lowThreshold, highThreshold)\n",
    "# host_output = host_output.reshape((rows, cols, 1))\n",
    "\n",
    "# naive_output = canny_edge(image, lowThreshold, highThreshold)\n",
    "\n",
    "# check_correctness(y_pred=host_output, y=naive_output)"
   ]
  },
  {
   "cell_type": "markdown",
   "metadata": {},
   "source": [
    "QOI"
   ]
  },
  {
   "cell_type": "code",
   "execution_count": null,
   "metadata": {},
   "outputs": [],
   "source": [
    "# QOI_encode(flat_image, channels, rows, cols)"
   ]
  },
  {
   "cell_type": "code",
   "execution_count": null,
   "metadata": {},
   "outputs": [],
   "source": [
    "# QOI_decode(\"img.bin\")"
   ]
  }
 ],
 "metadata": {
  "kernelspec": {
   "display_name": "dl",
   "language": "python",
   "name": "python3"
  },
  "language_info": {
   "codemirror_mode": {
    "name": "ipython",
    "version": 3
   },
   "file_extension": ".py",
   "mimetype": "text/x-python",
   "name": "python",
   "nbconvert_exporter": "python",
   "pygments_lexer": "ipython3",
   "version": "3.10.11"
  }
 },
 "nbformat": 4,
 "nbformat_minor": 2
}
